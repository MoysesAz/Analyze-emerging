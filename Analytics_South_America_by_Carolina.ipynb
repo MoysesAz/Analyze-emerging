{
 "cells": [
  {
   "cell_type": "code",
   "execution_count": 4,
   "id": "10660afd",
   "metadata": {},
   "outputs": [],
   "source": [
    "import pandas as pd\n",
    "import numpy as np\n",
    "import matplotlib.pyplot as plt\n",
    "import seaborn as sns\n",
    "\n",
    "%matplotlib inline"
   ]
  },
  {
   "cell_type": "markdown",
   "id": "bc239143",
   "metadata": {},
   "source": [
    "# Tratamento \n",
    "### (PiB Per Capita da América do Sul)"
   ]
  },
  {
   "cell_type": "code",
   "execution_count": null,
   "id": "b71ace3d",
   "metadata": {},
   "outputs": [],
   "source": [
    "data = pd.read_csv('raw_data/america_sul/pib_percapita.csv')\n",
    "data.set_index('Country', inplace=True)\n",
    "all_countries = data.index"
   ]
  },
  {
   "cell_type": "code",
   "execution_count": 6,
   "id": "39a46c33",
   "metadata": {},
   "outputs": [],
   "source": [
    "#data.drop(data.columns[[0, 1, 2, 3, data.shape[1] -1]], axis=1, inplace = True)"
   ]
  },
  {
   "cell_type": "code",
   "execution_count": null,
   "id": "35d895d5",
   "metadata": {},
   "outputs": [],
   "source": [
    "data.dropna(inplace=True)"
   ]
  },
  {
   "cell_type": "code",
   "execution_count": null,
   "id": "775535c1",
   "metadata": {},
   "outputs": [],
   "source": [
    "used_countries = data.index"
   ]
  },
  {
   "cell_type": "code",
   "execution_count": null,
   "id": "4e739f6a",
   "metadata": {},
   "outputs": [],
   "source": [
    "retired_countries = {\"Retired Countries\": list(set(all_countries) - set(used_countries))}\n",
    "retired_countries = pd.DataFrame(data=retired_countries)\n",
    "retired_countries.to_csv(\"data_finish_america_sul/pib_percapita/Retired_countries_pib_percapita\")\n",
    "retired_countries.to_excel(\"data_finish_america_sul/pib_percapita/Retired_countries_pib_percapita.xlsx\", sheet_name='Sheet')"
   ]
  },
  {
   "cell_type": "code",
   "execution_count": null,
   "id": "9a04b355",
   "metadata": {},
   "outputs": [],
   "source": [
    "data.columns = data.columns.astype(int)"
   ]
  },
  {
   "cell_type": "code",
   "execution_count": null,
   "id": "f0ce689c",
   "metadata": {},
   "outputs": [],
   "source": [
    "data = data.replace('[^\\d.]', '', regex=True).astype(float).copy()"
   ]
  },
  {
   "cell_type": "code",
   "execution_count": null,
   "id": "e11ee3cf",
   "metadata": {},
   "outputs": [],
   "source": [
    "data = data.transpose()"
   ]
  },
  {
   "cell_type": "code",
   "execution_count": null,
   "id": "c2298366",
   "metadata": {},
   "outputs": [],
   "source": [
    "data.tail(5)"
   ]
  },
  {
   "cell_type": "code",
   "execution_count": null,
   "id": "60bb5df6",
   "metadata": {},
   "outputs": [],
   "source": [
    "data.to_csv(\"data_finish_america_sul/pib_percapita/Pib_percapita\")\n",
    "data.to_excel(\"data_finish_america_sul/pib_percapita/Pib_percapita.xlsx\", sheet_name='Sheet')\n",
    "data = data.transpose()\n",
    "data.to_csv(\"data_finish_america_sul/pib_percapita/Pib_percapita_transpose\")\n",
    "data.to_excel(\"data_finish_america_sul/pib_percapita/Pib_percapita_transpose.xlsx\", sheet_name='Sheet')"
   ]
  },
  {
   "cell_type": "code",
   "execution_count": null,
   "id": "a3d75a9a",
   "metadata": {},
   "outputs": [],
   "source": []
  },
  {
   "cell_type": "code",
   "execution_count": null,
   "id": "f7f34d17",
   "metadata": {},
   "outputs": [],
   "source": []
  },
  {
   "cell_type": "code",
   "execution_count": null,
   "id": "9260d3cc",
   "metadata": {},
   "outputs": [],
   "source": []
  },
  {
   "cell_type": "code",
   "execution_count": null,
   "id": "9b82a7b3",
   "metadata": {},
   "outputs": [],
   "source": []
  },
  {
   "cell_type": "code",
   "execution_count": null,
   "id": "d13d0685",
   "metadata": {},
   "outputs": [],
   "source": []
  },
  {
   "cell_type": "code",
   "execution_count": null,
   "id": "08f304e5",
   "metadata": {},
   "outputs": [],
   "source": []
  },
  {
   "cell_type": "code",
   "execution_count": null,
   "id": "c8b87f0e",
   "metadata": {},
   "outputs": [],
   "source": []
  },
  {
   "cell_type": "code",
   "execution_count": null,
   "id": "fc78e268",
   "metadata": {},
   "outputs": [],
   "source": []
  },
  {
   "cell_type": "code",
   "execution_count": null,
   "id": "2bfdd025",
   "metadata": {},
   "outputs": [],
   "source": []
  },
  {
   "cell_type": "code",
   "execution_count": null,
   "id": "3a2d1396",
   "metadata": {},
   "outputs": [],
   "source": []
  },
  {
   "cell_type": "code",
   "execution_count": null,
   "id": "b8644ffa",
   "metadata": {},
   "outputs": [],
   "source": []
  },
  {
   "cell_type": "code",
   "execution_count": null,
   "id": "93ea817b",
   "metadata": {},
   "outputs": [],
   "source": []
  },
  {
   "cell_type": "code",
   "execution_count": null,
   "id": "6144b594",
   "metadata": {},
   "outputs": [],
   "source": []
  }
 ],
 "metadata": {
  "kernelspec": {
   "display_name": "Python 3",
   "language": "python",
   "name": "python3"
  },
  "language_info": {
   "codemirror_mode": {
    "name": "ipython",
    "version": 3
   },
   "file_extension": ".py",
   "mimetype": "text/x-python",
   "name": "python",
   "nbconvert_exporter": "python",
   "pygments_lexer": "ipython3",
   "version": "3.8.8"
  }
 },
 "nbformat": 4,
 "nbformat_minor": 5
}
